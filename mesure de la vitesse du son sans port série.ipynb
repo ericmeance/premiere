{
 "cells": [
  {
   "cell_type": "markdown",
   "metadata": {},
   "source": [
    "### tracé de la courbe v = ft) avec Python\n",
    "\n",
    "Pour arriver au bout de ce notebook, il faut exécuter tous les blocs de de code dans l'ordre et compléter ces blocs si nécéssaire."
   ]
  },
  {
   "cell_type": "markdown",
   "metadata": {},
   "source": [
    "importations des bibliothèques nécéssaires.  \n",
    "Matplotlib.pyplot permet de gérer la création de graphiques."
   ]
  },
  {
   "cell_type": "code",
   "execution_count": null,
   "metadata": {},
   "outputs": [],
   "source": [
    "import matplotlib.pyplot as plt"
   ]
  },
  {
   "cell_type": "markdown",
   "metadata": {},
   "source": [
    "Création des listes de mesures ( distances et temps d'aller retour)  \n",
    "**Vous devrez les compléter avec vos mesures**"
   ]
  },
  {
   "cell_type": "code",
   "execution_count": null,
   "metadata": {
    "scrolled": true
   },
   "outputs": [],
   "source": [
    "temps = [] # une liste pour les mesures de temps\n",
    "distances = [0.10 ,0.20,0.30,0.40,0.50,0.60] # une liste pour les mesures de distance  "
   ]
  },
  {
   "cell_type": "markdown",
   "metadata": {},
   "source": [
    "Création du graphique avec la bibliothèque matplotlib"
   ]
  },
  {
   "cell_type": "code",
   "execution_count": null,
   "metadata": {},
   "outputs": [],
   "source": [
    "plt.figure( figsize =(12,6))\n",
    "plt.plot(temps , distances, \"o\")# rajouter 0 permet de faire apparaitre les points expérimentaux\n",
    "plt.xlabel (\"Temps (s)\")\n",
    "plt.ylabel (\"distance en cm\")\n",
    "plt.grid ()\n",
    "plt.show()"
   ]
  },
  {
   "cell_type": "markdown",
   "metadata": {},
   "source": [
    "###  <span style=\"color:blue\">Modélisation de la courbe</span>"
   ]
  },
  {
   "cell_type": "code",
   "execution_count": null,
   "metadata": {
    "scrolled": true
   },
   "outputs": [],
   "source": [
    "from numpy import*\n",
    "from matplotlib.pyplot import*\n",
    "\n",
    "# Modélisation du nuage de points par la droite d'équation distance_mod=a*temps+b\n",
    "\n",
    "Modele = polyfit(temps,distances,1)\n",
    "\n",
    "# Affecte les coefficients du modèle aux variables a et b\n",
    "\n",
    "a,b = [coef for coef in Modele]\n",
    "\n",
    "#a=Modele[0]\n",
    "#b=Modele[1]\n",
    "# Pour chaque valeur i de l'intensité, calcule l'ordonnée donnée par\n",
    "# la modélisation et range les ordonnées dans une liste appelée distance_mod\n",
    "\n",
    "distance_mod=[]\n",
    "for i in temps:\n",
    "    distance_mod.append(a*i+b)\n",
    "\n",
    "\n",
    "# Affiche l'équation de la droite en arrondissant les coefficients a et b\n",
    "# à 1 chiffre après la virgule et en précisant les unités de d et t\n",
    "print('Expression du modèle')\n",
    "if (round(b,1)==0.0):\n",
    "    print('fonction linéaire : distance (en cm) = ',a,'x temps (en µs)')\n",
    "else:\n",
    "    print('fonction affine :distance (en cm)=',a,'x temps (en µs) +(',round(b,1),')')\n",
    "\n",
    "\n"
   ]
  },
  {
   "cell_type": "code",
   "execution_count": null,
   "metadata": {},
   "outputs": [],
   "source": [
    "# Trace les points de coordonnées t et distance_mod en bleu et reliés\n",
    "plot(temps,distance_mod,'b-',label='distance=f(temps) modélisé')\n",
    "plt.plot(temps , distances, \"o\")\n",
    "grid()                         # Affiche une grille\n",
    "legend()                       # Affiche la légende\n",
    "show()                         # Affiche la figure\n",
    "print(a)"
   ]
  },
  {
   "cell_type": "code",
   "execution_count": null,
   "metadata": {},
   "outputs": [],
   "source": []
  }
 ],
 "metadata": {
  "kernelspec": {
   "display_name": "Python 3",
   "language": "python",
   "name": "python3"
  },
  "language_info": {
   "codemirror_mode": {
    "name": "ipython",
    "version": 3
   },
   "file_extension": ".py",
   "mimetype": "text/x-python",
   "name": "python",
   "nbconvert_exporter": "python",
   "pygments_lexer": "ipython3",
   "version": "3.7.8"
  }
 },
 "nbformat": 4,
 "nbformat_minor": 2
}
