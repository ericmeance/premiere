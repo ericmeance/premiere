{
 "cells": [
  {
   "cell_type": "markdown",
   "metadata": {},
   "source": [
    "# Avancement, réactif limitant et état final d'une réaction chimique\n",
    "Pour une équation du type : a.A+b.B → c.C+ d.D , on va dans un premier temps rentrer les valeurs des coefficients stoechiométriques a,b ,c et d puis des quantité de matières des deux réactifs\n"
   ]
  },
  {
   "cell_type": "code",
   "execution_count": null,
   "metadata": {},
   "outputs": [],
   "source": [
    "from matplotlib.pyplot import*\n",
    "a=\"a\" # on définit les variables comme des caractères\n",
    "b=\"b\"\n",
    "c=\"c\"\n",
    "d=\"d\"\n",
    "n1 =\"n1\"\n",
    "n2 =\"n2\"\n",
    "\n",
    "def coefficients (L) : # on crée une fonction pour ne pas réécrire des opérations répétitives\n",
    "    print(\"donner la valeur de \", L)\n",
    "    L=float(input('la valeur est  :'))\n",
    "    return L\n",
    "\n",
    "a,b,c,d = coefficients(a),coefficients(b), coefficients(c), coefficients(d) #on applique la fonction aux 4 coefficients\n"
   ]
  },
  {
   "cell_type": "markdown",
   "metadata": {},
   "source": [
    "On rentre maintenant les quantités de matière initiales des réactifs. On appellera respectivement les quantités de matières initiales de A et de B, n1 et n2. Ensuite le programme calcule l'avancement maximal et on en déduit le réactif limitant."
   ]
  },
  {
   "cell_type": "code",
   "execution_count": null,
   "metadata": {},
   "outputs": [],
   "source": [
    "n1 = coefficients(n1) #on utilise de nouveau la fonction pour appeler les variables\n",
    "n2 = coefficients(n2)\n",
    "xmax=0.0\n",
    "if n1/a > n2/b : #calcul de xmax\n",
    "    xmax = n2/b\n",
    "else :\n",
    "    xmax = n1/a\n",
    "print (\"La valeur de xmax est de \" , xmax) #affichage de xmax"
   ]
  },
  {
   "cell_type": "markdown",
   "metadata": {},
   "source": [
    "On va maintenant tracer les courbes. On crée dans un premier temps les listes vides pour toutes les quantités de matières, on fixe un pas pour l'avancement à partir de l'avancement maximal : le pas c'est xmax/100.\n",
    "on remplit alors les listes avec les 100 valeurs découlant du pas choisi."
   ]
  },
  {
   "cell_type": "code",
   "execution_count": null,
   "metadata": {},
   "outputs": [],
   "source": [
    "#tracés des courbes\n",
    "x=[]     # on crée les listes vides\n",
    "n11=[]\n",
    "n22=[]\n",
    "n33=[]\n",
    "n44=[]\n",
    "\n",
    "for i in range(0,101,1):   # les valeurs s'étendent de 0 à 101 avec un pas de 1\n",
    "    x.append(i*xmax/100)\n",
    "\n",
    "#calculs des quantités de matière\n",
    "for i in range(0,101,1):\n",
    "    n11.append(n1-a*x[i])\n",
    "for i in range(0,101,1):\n",
    "    n22.append(n2-b*x[i])\n",
    "for i in range(0,101,1):\n",
    "    n33.append(c*x[i])\n",
    "for i in range(0,101,1):\n",
    "    n44.append(d*x[i])\n"
   ]
  },
  {
   "cell_type": "markdown",
   "metadata": {},
   "source": [
    "On trace ensuite les courbes avec les quantités de matières en ordonnée et l'avancement en abscisse."
   ]
  },
  {
   "cell_type": "code",
   "execution_count": null,
   "metadata": {},
   "outputs": [],
   "source": [
    "plot(x,n11)     # plot(abscisse,ordonnée,\"legende de la courbe\")\n",
    "plot(x,n22)       # plot(abscisse,ordonnée,\"legende de la courbe\")\n",
    "plot(x,n33)      # plot(abscisse,ordonnée,\"legende de la courbe\")\n",
    "plot(x,n44)      # plot(abscisse,ordonnée,\"legende de la courbe\")\n",
    "xlabel(\"avancement en mol\")      # xlabel(\"Nom de l'axe de l'axe des absicces\")\n",
    "ylabel(\"quantités de matières en mol\")              # ylabel(\"Nom de l'axe des ordonnées\")\n",
    "#legend(loc=\"up right\")            # Position de la legende de la courbe dans le graphique\n",
    "grid(True)                          # Affiche la grille du graphique\n",
    "show(True)                          # Affiche le graphique"
   ]
  },
  {
   "cell_type": "code",
   "execution_count": null,
   "metadata": {},
   "outputs": [],
   "source": []
  }
 ],
 "metadata": {
  "kernelspec": {
   "display_name": "Python 3",
   "language": "python",
   "name": "python3"
  },
  "language_info": {
   "codemirror_mode": {
    "name": "ipython",
    "version": 3
   },
   "file_extension": ".py",
   "mimetype": "text/x-python",
   "name": "python",
   "nbconvert_exporter": "python",
   "pygments_lexer": "ipython3",
   "version": "3.7.3"
  }
 },
 "nbformat": 4,
 "nbformat_minor": 2
}
