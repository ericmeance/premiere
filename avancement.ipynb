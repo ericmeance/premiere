{
 "cells": [
  {
   "cell_type": "markdown",
   "metadata": {},
   "source": [
    "# Avancement, réactif limitant et état final d'une réaction chimique\n",
    "Pour une équation du type : a.A+b.B → c.C+ d.D , on va dans un premier temps rentrer les valeurs des coefficients stoechiométriques a,b ,c et d puis des quantité de matières des deux réactifs\n"
   ]
  },
  {
   "cell_type": "code",
   "execution_count": null,
   "metadata": {},
   "outputs": [],
   "source": [
    "from matplotlib.pyplot import*\n",
    "A=\"A\" # on définit les variables comme des caractères\n",
    "B=\"B\"\n",
    "C=\"C\"\n",
    "D=\"D\"\n",
    "\n",
    "a=\"a\" # on définit les variables comme des caractères\n",
    "b=\"b\"\n",
    "c=\"c\"\n",
    "d=\"d\"\n",
    "n1 =\"n1\"\n",
    "n2 =\"n2\"\n",
    "\n",
    "def coefficients (L) : # on crée une fonction pour ne pas réécrire des opérations répétitives\n",
    "    print(\"donner la valeur de \", L)\n",
    "    L=float(input('la valeur est  :'))\n",
    "    return L\n",
    "def formule (chim) : # on crée une fonction pour ne pas réécrire des opérations répétitives\n",
    "    form=input(f\"donner la formule de {chim} :\")\n",
    "    return form\n",
    "\n",
    "\n",
    "A,a,B,b,C,c,D,d = formule(A),coefficients(a),formule(B),coefficients(b),formule(C), coefficients(c), formule(D),coefficients(d) #on applique la fonction aux 4 coefficients\n"
   ]
  },
  {
   "cell_type": "markdown",
   "metadata": {},
   "source": [
    "On rentre maintenant les quantités de matière initiales des réactifs. On appellera respectivement les quantités de matières initiales de A et de B, n1 et n2. Ensuite le programme calcule l'avancement maximal et on en déduit le réactif limitant."
   ]
  },
  {
   "cell_type": "code",
   "execution_count": null,
   "metadata": {},
   "outputs": [],
   "source": [
    "nA = coefficients(n1) #on utilise de nouveau la fonction pour appeler les variables\n",
    "nB = coefficients(n2)\n",
    "xmax=0.0\n",
    "if nA/a > nB/b : #calcul de xmax\n",
    "    xmax = nB/b\n",
    "    nA_finale =nA-a*xmax\n",
    "    nB_finale =0\n",
    "    nC_finale =c*xmax\n",
    "    nD_finale =d*xmax\n",
    "    print (\"La valeur de xmax est de \" , xmax) #affichage de xmax\n",
    "    print (\"La quantité de matière à l'état final de \" ,A,\"=\",nA_finale,\"mol\") #affichage de xmax\n",
    "    print (\"La quantité de matière à l'état final de \" ,B,\"=\",nB_finale,\"mol\")\n",
    "    print (\"La quantité de matière à l'état final de \" ,C,\"=\",nC_finale,\"mol\")\n",
    "    print (\"La quantité de matière à l'état final de \" ,D,\"=\",nD_finale,\"mol\")\n",
    "else :\n",
    "    xmax = nA/a\n",
    "    nA_finale =0\n",
    "    nB_finale =nB-b*xmax\n",
    "    nC_finale =c*xmax\n",
    "    nD_finale =d*xmax\n",
    "    print (\"La valeur de xmax est de \" , xmax) #affichage de xmax\n",
    "    print (\"La quantité de matière à l'état final de \" ,A,\"=\", nA_finale,\"mol\") #affichage de xmax\n",
    "    print (\"La quantité de matière à l'état final de \" ,B,\"=\", nB_finale,\"mol\")\n",
    "    print (\"La quantité de matière à l'état final de \" ,C,\"=\", nC_finale,\"mol\")\n",
    "    print (\"La quantité de matière à l'état final de \" ,D,\"=\", nD_finale,\"mol\")\n"
   ]
  },
  {
   "cell_type": "markdown",
   "metadata": {},
   "source": [
    "On va maintenant tracer les courbes. On crée dans un premier temps les listes vides pour toutes les quantités de matières, on fixe un pas pour l'avancement à partir de l'avancement maximal : le pas c'est xmax/100.\n",
    "on remplit alors les listes avec les 100 valeurs découlant du pas choisi."
   ]
  },
  {
   "cell_type": "code",
   "execution_count": null,
   "metadata": {},
   "outputs": [],
   "source": [
    "#tracés des courbes\n",
    "x=[]     # on crée les listes vides\n",
    "n11=[]\n",
    "n22=[]\n",
    "n33=[]\n",
    "n44=[]\n",
    "\n",
    "for i in range(0,101,1):   # les valeurs s'étendent de 0 à 101 avec un pas de 1\n",
    "    x.append(i*xmax/100)\n",
    "\n",
    "#calculs des quantités de matière\n",
    "for i in range(0,101,1):\n",
    "    n11.append(nA-a*x[i])\n",
    "for i in range(0,101,1):\n",
    "    n22.append(nB-b*x[i])\n",
    "for i in range(0,101,1):\n",
    "    n33.append(c*x[i])\n",
    "for i in range(0,101,1):\n",
    "    n44.append(d*x[i])\n"
   ]
  },
  {
   "cell_type": "markdown",
   "metadata": {},
   "source": [
    "On trace ensuite les courbes avec les quantités de matières en ordonnée et l'avancement en abscisse."
   ]
  },
  {
   "cell_type": "code",
   "execution_count": null,
   "metadata": {},
   "outputs": [],
   "source": [
    "plot(x,n11,label=A,linestyle= 'dashed')\n",
    "plot(x,n22,label=B,linestyle= 'dotted')       # plot(abscisse,ordonnée,\"legende de la courbe\")\n",
    "plot(x,n33,label=C)\n",
    "plot(x,n44,label=D) \n",
    "\n",
    "\n",
    "xlabel(\"avancement en mol\")      # xlabel(\"Nom de l'axe de l'axe des absicces\")\n",
    "ylabel(\"quantités de matières en mol\")              # ylabel(\"Nom de l'axe des ordonnées\")\n",
    "legend(loc=\"lower left\")           # Position de la legende de la courbe dans le graphique\n",
    "grid(True)                          # Affiche la grille du graphique\n",
    "show(True)                          # Affiche le graphique"
   ]
  },
  {
   "cell_type": "code",
   "execution_count": null,
   "metadata": {},
   "outputs": [],
   "source": []
  }
 ],
 "metadata": {
  "kernelspec": {
   "display_name": "Python 3",
   "language": "python",
   "name": "python3"
  },
  "language_info": {
   "codemirror_mode": {
    "name": "ipython",
    "version": 3
   },
   "file_extension": ".py",
   "mimetype": "text/x-python",
   "name": "python",
   "nbconvert_exporter": "python",
   "pygments_lexer": "ipython3",
   "version": "3.7.3"
  }
 },
 "nbformat": 4,
 "nbformat_minor": 2
}
