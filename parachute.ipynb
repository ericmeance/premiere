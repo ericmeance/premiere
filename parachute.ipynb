{
 "cells": [
  {
   "cell_type": "markdown",
   "metadata": {},
   "source": [
    "# Saut à l’élastique – étude avec Python\n",
    "La société Vertigo Bridge fournit du matériel spécifique pour le saut à l’élastique et accompagne un de ses clients, à l’aide d’un logiciel de simulation, pour le choix des élastiques.\n",
    "Le client souhaite installer son activité sur le pont de Ponsonnas en Isère au sud de Grenoble.\n",
    "Voir la  [vidéo](https://youtu.be/x-7gZ9Igx1Y).\n",
    "\n",
    "Une personne de 75kg effectue un saut avec un élastique de 30 m de long. La constante de raideur de l’élastique est k = 45N/m  \n",
    "\n",
    "## Phase 1 du saut l’élastique n’est pas tendu  \n",
    "\n",
    "Questions préalables\n",
    "On prendra l’origine des altitudes au niveau du pont et on négligera les frottements lors de ce saut.  \n",
    "a) Que vaut l’énergie mécanique à l’instant t<sub>0</sub> = 0s et comment va-t-elle évoluer au cours de la phase 1 ?  \n",
    "b) On note h , la hauteur de chute. Donner l’expression de l’énergie potentielle en fonction de h.  \n",
    "c) Donner l’expression de l’énergie mécanique en fonction de la hauteur de chute et de l’énergie cinétique.  \n",
    "d) En déduire comment calculer la vitesse v pour une hauteur de chute h.  \n",
    "\n",
    "##  Programmation  \n",
    "Compléter le  programme pour pouvoir afficher sur un graphique Ep,Ec et Em en fonction de h  \n",
    "\n",
    "<img src=\"https://download.pearltrees.com/s/pic/or/-224437770?pearlId=314139697\" width=\"265\" height=\"160\" alt=\"image\" style=\"margin-left:10px;float:left;\" />\n",
    "<img src=\"https://download.pearltrees.com/s/pic/or/-224437769?pearlId=314139696\" width=\"270\" height=\"256\" alt=\"image\" style=\"margin-left:10px;float:left;\" / />     <br>                               \n",
    "\n",
    "\n"
   ]
  },
  {
   "cell_type": "code",
   "execution_count": null,
   "metadata": {},
   "outputs": [],
   "source": [
    "# Importation de la librairie nécessaire pour les tracés\n",
    "from matplotlib.pyplot import*\n",
    "\n",
    "# Définition des constantes\n",
    "\n",
    "# Constante physique : g = 9.81 m/s²\n",
    "g=9.81\n",
    "\n",
    "\n",
    "# Création des listes vides\n",
    "\n",
    "h=[]      # liste pour stocker les valeurs des hauteurs de chute\n",
    "Epp=[]    # liste pour stocker les valeurs des énergies potentielles de pesanteur\n",
    "\n",
    "# Ajout itératif des valeurs de hauteurs de chute dans la liste h\n",
    "\n",
    "for i in range(0,31,1):   # les valeurs s'étendent de 0 m à 31 m exclu par pas de 1 m\n",
    "    h.append(i)            # ajout d'un élèment à la fin de la liste h\n",
    "\n",
    "# Calcul et ajout itératif des valeurs de l'énergie potentielle de pesanteur Epp(J) correspondantes aux hauteurs de chute\n",
    "\n",
    "for i in range(0,31,1):    # les valeurs s'étendent de 0 m à 31 m exclu par pas de 1 m\n",
    "    Epp.append(-m*g*h[i])  # ajout d'un élèment à la fin de la liste Epp\n",
    "\n",
    "\n",
    "# Tracé de l'énergie potentielle de pesanteur et de l'énergie cinétique en fonction de la hauteur\n",
    "plot(h,Epp,label=\"Epp\")      # plot(abscisse,ordonnée,\"legende de la courbe\")\n",
    "xlabel(\"Hauteur de chute (m)\")       # xlabel(\"Nom de l'axe de l'axe des absicces\")\n",
    "ylabel(\"Energies (J)\")               # ylabel(\"Nom de l'axe des ordonnées\")\n",
    "legend(loc=\"lower left\")             # Position de la legende de la courbe dans le graphique\n",
    "grid                                 # Affiche la grille du graphique\n",
    "show(True)                           # Affiche le graphique\n"
   ]
  },
  {
   "cell_type": "markdown",
   "metadata": {},
   "source": [
    "Testez votre progamme. Une fois que votre programme est validé par le professeur, le copier sur votre compte rendu ou sur pyzo. Dans ce dernier cas, déposer votre fichier sur Pearltrees."
   ]
  },
  {
   "cell_type": "markdown",
   "metadata": {},
   "source": [
    "## Phase 2 : l’élastique se tend\n",
    "Dans la seconde partie du mouvement, l’élastique est tendu,la hauteur de chute h est supérieure à la longueur à vide 𝑙<sub>0</sub> de l’élastique et la hauteur maximale de chute h<sub>max</sub>.\n",
    "L’élastique exerce alors une force de rappel, cette force conservative est liée à l’énergie  potentielle élastique qui s'exprime sous la forme: $E_{pe} =  \\frac{1}{2}.k(l-l_0)^2$.  \n",
    "La personne qui saute est soumise au poids et à la force de rappel car les frottements de l’air sont négligés. Donc l’énergie mécanique 𝐸𝑚=𝐸𝑝𝑝+𝐸𝑝𝑒+𝐸𝑐 se conserve\n"
   ]
  },
  {
   "cell_type": "markdown",
   "metadata": {},
   "source": [
    "### Questions préalables\n",
    "On prendra de nouveau  l’origine des altitudes au niveau du pont et on négligera les frottements lors de ce saut.  \n",
    "1) Lors de la phase 2, quelle(s) sont les énergies qui augmentent et quelles sont celles qui diminuent ?  \n",
    "2) Donner les expressions de Ec avant que l’élastique ne se tende et après qu’il ait commencé à se tendre.   \n",
    "3) Comment se termine cette phase ?  \n",
    "4) Que se passe-t-il à l’issue de cette phase ?  "
   ]
  },
  {
   "cell_type": "markdown",
   "metadata": {},
   "source": [
    "## Programmation\n",
    "\n",
    "Compléter le  programme elastique_phase2_eleve.py pour pouvoir afficher sur un graphique Epp, Epe Ec  et Em en fonction de h.  \n",
    "Il faudra donc tenir compte des phases 1 et 2  \n",
    "Testez votre progamme. Une fois que votre programme est validé par le professeur, le copier sur votre compte rendu ou sur pyzo. Dans ce dernier cas, déposer votre fichier sur Pearltrees."
   ]
  },
  {
   "cell_type": "code",
   "execution_count": null,
   "metadata": {},
   "outputs": [],
   "source": [
    "# Importation de la librairie nécessaire pour les tracés\n",
    "from matplotlib.pyplot import*\n",
    "\n",
    "# Définition des constantes g et m\n",
    "# Constante physique : g = 9.81 m/s²\n",
    "g=9.81\n",
    "# Paramètre : masse du sauteur en kg\n",
    "m=100\n",
    "# Longueur de l'élastique à vide en m\n",
    "l0=24\n",
    "# constante de raideur de l'élastique en N/m\n",
    "\n",
    "\n",
    "# Création des listes vides\n",
    "h=[]      # liste pour stocker les valeurs des hauteurs de chute\n",
    "Epp=[]    # liste pour stocker les valeurs des énergies potentielles de pesanteur\n",
    "Ec=[]     # liste pour stocker les valeurs des énergies cinétiques\n",
    "z=[]\n"
   ]
  },
  {
   "cell_type": "markdown",
   "metadata": {},
   "source": [
    "Partie à compléter. ( ne pas oublier d'exécuter le code précédent)"
   ]
  },
  {
   "cell_type": "code",
   "execution_count": null,
   "metadata": {},
   "outputs": [],
   "source": [
    "# Ajout itératif des valeurs de hauteurs de chute dans la liste h\n",
    "for i in range(0,100,1):   # les valeurs s'étendent de 0 m à 100 m exclu par pas de 1 m\n",
    "    h.append(i)           # ajout d'un élèment à la fin de la liste h\n",
    "\n",
    "# Calcul et ajout itératif des valeurs de l'énergie potentielle de pesanteur Epp(J) correspondantes aux hauteurs de chute\n",
    "for i in range(0,100,1):     # les valeurs s'étendent de 0 m à 100 m exclu par pas de 1 m\n",
    "    Epp.append(-m*g*h[i])   # ajout d'un élèment à la fin de la liste Epp\n",
    "\n",
    "\n",
    "# Calcul et ajout itératif des valeurs de l'énergie cinétique Ec(J) et de l'énergie potentielle élastique Epe(J)\n",
    "\n",
    "for i in range(0,100,1):     # les valeurs s'étendent de 0 m à 100 m exclu par pas de 1 m\n",
    "   if h[i]<l0:               # Condition sur la hauteur de chute\n",
    "\n",
    "         # valeur de l'énergie potentielle élastique\n",
    "         # Calcul de l'énergie cinétique\n",
    "\n",
    "   else:      #l'écriture **2 permet d'élever au carré\n",
    "         # Calcul de l'énergie potentielle élastique\n",
    "         # Calcul de l'énergie cinétique\n",
    "\n",
    "# Calcul et ajout itératif des valeurs de l'énergie mécanique Em(J) correspondantes aux hauteurs de chute\n",
    "\n",
    "# Tracé de l'énergie potentielle de pesanteur, élastique et de l'énergie cinétique en fonction de la hauteur\n",
    "\n",
    "plot(h,Epp,label=\"Epp\")     # plot(abscisse,ordonnée,\"legende de la courbe\")\n",
    "plot(h,Ec,label=\"Ec\")       # plot(abscisse,ordonnée,\"legende de la courbe\")\n",
    "plot(h,Epe,label=\"Epe\")      # plot(abscisse,ordonnée,\"legende de la courbe\")\n",
    "\n",
    "xlabel(\"Hauteur de chute (m)\")      # xlabel(\"Nom de l'axe de l'axe des absicces\")\n",
    "ylabel(\"Energies (J)\")              # ylabel(\"Nom de l'axe des ordonnées\")\n",
    "legend(loc=\"lower left\")            # Position de la legende de la courbe dans le graphique\n",
    "grid(True)                          # Affiche la grille du graphique\n",
    "show(True)                          # Affiche le graphique\n"
   ]
  },
  {
   "cell_type": "markdown",
   "metadata": {},
   "source": [
    "## Exploitation du graphe obtenu.\n",
    "5) A partir du graphe obtenu, retrouver l’énergie cinétique maximale.  \n",
    "6) En déduire la vitesse maximale atteinte.  \n",
    "7)  A partir du graphe obtenu, retrouver la hauteur de chute maximale. (démarche à expliquer)  "
   ]
  },
  {
   "cell_type": "markdown",
   "metadata": {},
   "source": [
    "### Programmation suite\n",
    "Compléter le programme précédent pour qu’il affiche la vitesse maximale et la hauteur de chute maximale.  \n",
    " \n",
    "Testez votre progamme. Une fois que votre programme est validé par le professeur, le copier sur votre compte rendu ou sur pyzo. Dans ce dernier cas, déposer votre fichier sur Pearltrees.  \n",
    "\n",
    " [Aide Python](https://www.pearltrees.com/emeance/images-tp2/id33379183/item314170189)."
   ]
  },
  {
   "cell_type": "code",
   "execution_count": null,
   "metadata": {},
   "outputs": [],
   "source": []
  }
 ],
 "metadata": {
  "kernelspec": {
   "display_name": "Python 3",
   "language": "python",
   "name": "python3"
  },
  "language_info": {
   "codemirror_mode": {
    "name": "ipython",
    "version": 3
   },
   "file_extension": ".py",
   "mimetype": "text/x-python",
   "name": "python",
   "nbconvert_exporter": "python",
   "pygments_lexer": "ipython3",
   "version": "3.7.3"
  }
 },
 "nbformat": 4,
 "nbformat_minor": 2
}
