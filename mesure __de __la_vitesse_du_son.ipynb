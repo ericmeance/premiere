{
 "cells": [
  {
   "cell_type": "markdown",
   "metadata": {},
   "source": [
    "le code ci dessous à été fourni par Christophe Casseau via son document : la physique computationelle( académie de Bordeaux)"
   ]
  },
  {
   "cell_type": "markdown",
   "metadata": {},
   "source": [
    "Création d'une fonction permettant de faire la moyenne des temps d'aller retour du signal"
   ]
  },
  {
   "cell_type": "code",
   "execution_count": null,
   "metadata": {},
   "outputs": [],
   "source": [
    "\"\"\"\n",
    "Cette fonction calcule une moyenne des temps ultrasons\n",
    " reçus sur n valeurs\n",
    " n -> <int> : Nombre de valeurs à lire\n",
    " serial_port -> <serial> : Port série\n",
    " \"\"\"\n",
    "def temps_moyen(n, serial_port):\n",
    "\n",
    "    i = 0\n",
    "    t_somme = 0\n",
    "    serial_port.flushInput()\n",
    "    while i < n:\n",
    "        val = serial_port .readline ().split ()\n",
    "        try :\n",
    "            t = float(val [0] ) # lecture temps ultrason\n",
    "            t_somme += t # la somme des temps ultrasons\n",
    "            i = i + 1 # ajoute 1 à la variable comptant les mesures\n",
    "        except:\n",
    "            pass\n",
    "    return t_somme/n"
   ]
  },
  {
   "cell_type": "markdown",
   "metadata": {},
   "source": [
    "importations des bibliothèques nécéssaires.  Sérial pour la lecture sur le port série de la carte Arduino et "
   ]
  },
  {
   "cell_type": "code",
   "execution_count": null,
   "metadata": {},
   "outputs": [],
   "source": [
    "# les imports\n",
    "import serial\n",
    "import matplotlib.pyplot as plt"
   ]
  },
  {
   "cell_type": "markdown",
   "metadata": {},
   "source": [
    "Création des listes de mesures ( distances et temps d'aller retour)\n",
    "pensez à vérifier le nom du port\n",
    "Choix de faire 6 mesures"
   ]
  },
  {
   "cell_type": "code",
   "execution_count": null,
   "metadata": {
    "scrolled": true
   },
   "outputs": [],
   "source": [
    "# ouverture du port série et synchronisation des données entre arduino et Python.\n",
    "serial_port =serial.Serial(port = 'COM3', baudrate =9600)\n",
    "\n",
    "temps = [] # une liste pour les mesures de temps\n",
    "distances = [] # une liste pour les mesures de distance\n",
    "dist = 0 # juste pour entrer dans la boucle\n",
    "nb_t = 10 # le nombre de mesure temps\n",
    "i=0\n",
    "while i < 6: # 6 mesures peuvent être faites\n",
    "    dist = float(input(\"Entrez votre mesure en m : \" ))\n",
    "    distances.append(dist)\n",
    "    tm = temps_moyen(nb_t, serial_port)/1000000\n",
    "    temps.append(tm)\n",
    "    i= i+1\n",
    "# fermeture du port série\n",
    "serial_port.close()\n",
    "   "
   ]
  },
  {
   "cell_type": "markdown",
   "metadata": {},
   "source": [
    "Création du graphique avec la bibliothèque matplotlib"
   ]
  },
  {
   "cell_type": "code",
   "execution_count": null,
   "metadata": {},
   "outputs": [],
   "source": [
    "plt.figure( figsize =(12,6))\n",
    "plt.plot(temps , distances, \"o\")# rajouter 0 permet de faire apparaitre les points expérimentaux\n",
    "plt.xlabel (\"Temps (s)\")\n",
    "plt.ylabel (\"distance en cm\")\n",
    "plt.grid ()\n",
    "plt.show()"
   ]
  },
  {
   "cell_type": "code",
   "execution_count": null,
   "metadata": {
    "scrolled": true
   },
   "outputs": [],
   "source": [
    "from numpy import*\n",
    "from matplotlib.pyplot import*\n",
    "#Calcul du coefficient de corrélation (arrondit à 5 chiffres)\n",
    "# et affichage dans la figure\n",
    "txt='Coefficient de corrélation : {}'.format(round(corrcoef(temps,distances)[0][1],5))\n",
    "text(0.05,4.8,txt)  #Affichage de tx en (0,05;4,8)\n",
    "\n",
    "\n",
    "# Modélisation du nuage de points par la droite d'équation distance_mod=a*temps+b\n",
    "\n",
    "# Calcule les coefficients de la droite modélisant le nuage\n",
    "# de points et les range dans un tableau nommé Modele\n",
    "# pour en savoir plus :\n",
    "# http://www.python-simple.com/python-numpy-scipy/fitting-regression.php\n",
    "Modele = polyfit(temps,distances,1)\n",
    "\n",
    "# Affecte les coefficients du modèle aux variables a et b\n",
    "# version du livre : a,b = [coef for coef in Modele]\n",
    "a,b = [coef for coef in Modele]\n",
    "# Ma simplification :\n",
    "#a=Modele[0]\n",
    "#b=Modele[1]\n",
    "\n",
    "\n",
    "# Pour chaque valeur i de l'intensité, calcule l'ordonnée donnée par\n",
    "# la modélisation et range les ordonnées dans une liste appelée distance_mod\n",
    "\n",
    "distance_mod=[]\n",
    "for i in temps:\n",
    "    distance_mod.append(a*i+b)\n",
    "\n",
    "\n",
    "# Trace les points de coordonnées t et distance_mod en bleu et reliés\n",
    "plot(temps,distance_mod,'b-',label='distance=f(temps) modélisé')\n",
    "\n",
    "\n",
    "# Affiche l'équation de la droite en arrondissant les coefficients a et b\n",
    "# à 1 chiffre après la virgule et en précisant les unités de d et t\n",
    "print('Expression du modèle')\n",
    "if (round(b,1)==0.0):\n",
    "    print('fonction linéaire : distance (en cm) = ',a,'x temps (en µs)')\n",
    "else:\n",
    "    print('fonction affine :distance (en cm)=',a,'x temps (en µs) +(',round(b,1),')')\n",
    "\n",
    "savefig('vitesse_son.jpg', bbox_inches='tight')\n",
    "\n",
    "\n"
   ]
  },
  {
   "cell_type": "code",
   "execution_count": null,
   "metadata": {},
   "outputs": [],
   "source": [
    "# Trace les points de coordonnées t et distance_mod en bleu et reliés\n",
    "plot(temps,distance_mod,'b-',label='distance=f(temps) modélisé')\n",
    "plt.plot(temps , distances, \"o\")\n",
    "grid()                         # Affiche une grille\n",
    "legend()                       # Affiche la légende\n",
    "show()                         # Affiche la figure\n",
    "print(a)"
   ]
  },
  {
   "cell_type": "code",
   "execution_count": null,
   "metadata": {},
   "outputs": [],
   "source": []
  }
 ],
 "metadata": {
  "kernelspec": {
   "display_name": "Python 3",
   "language": "python",
   "name": "python3"
  },
  "language_info": {
   "codemirror_mode": {
    "name": "ipython",
    "version": 3
   },
   "file_extension": ".py",
   "mimetype": "text/x-python",
   "name": "python",
   "nbconvert_exporter": "python",
   "pygments_lexer": "ipython3",
   "version": "3.7.3"
  }
 },
 "nbformat": 4,
 "nbformat_minor": 2
}
