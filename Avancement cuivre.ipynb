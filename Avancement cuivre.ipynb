{
 "cells": [
  {
   "cell_type": "markdown",
   "metadata": {},
   "source": [
    "## Utilisation d’un langage informatique : Python\n",
    "### partie 1 : étude de la réaction entre les ions  cuivre et les ions hydroxyde\n",
    "**Première partie du code** : l'éxécuter et  expliquer ce qu'il fait"
   ]
  },
  {
   "cell_type": "code",
   "execution_count": null,
   "metadata": {},
   "outputs": [],
   "source": [
    "from matplotlib.pyplot import* \n",
    "\n",
    "especes=[\"Cu2+\",\"HO-\",\"Cu(OH)2\"]\n",
    "\n",
    "print(\"Pour une équation du type : a\", especes[0], \"+ b\", especes[1],\" → c\" , especes[2])\n",
    "\n",
    "a=\"a\" # on définit les variables comme des caractères\n",
    "b=\"b\"\n",
    "c=\"c\"\n",
    "n1 =\"n1\"\n",
    "n2 =\"n2\"\n",
    "\n",
    "def coefficients (L) : # on crée une fonction pour ne pas réécrire des opérations répétitives\n",
    "    print(\"donner la valeur de \", L)\n",
    "    L=float(input('la valeur est  :'))\n",
    "    return L\n",
    "    \n",
    "a,b,c = coefficients(a),coefficients(b), coefficients(c) #on applique la fonction aux 3 coefficients\n"
   ]
  },
  {
   "cell_type": "markdown",
   "metadata": {},
   "source": [
    "**Deuxième partie du code** : l'éxécuter et  expliquer ce qu'il fait"
   ]
  },
  {
   "cell_type": "code",
   "execution_count": null,
   "metadata": {},
   "outputs": [],
   "source": [
    "print(\"on appellera respectivement les quantités de matières initiales de \", especes[0],\" et de\",especes[1],\" B, n1 et n2\")\n",
    "n1 = coefficients(n1) #on utilise de nouveau la fonction pour appeler les variables\n",
    "n2 = coefficients(n2)"
   ]
  },
  {
   "cell_type": "markdown",
   "metadata": {},
   "source": [
    "**Troisième partie du code** : l'éxécuter et  expliquer comment on arrive à trouver l'état final."
   ]
  },
  {
   "cell_type": "code",
   "execution_count": null,
   "metadata": {},
   "outputs": [],
   "source": [
    "xmax=0.0\n",
    "n1f=0\n",
    "n2f=0\n",
    "if n1/a > n2/b : #calcul de xmax\n",
    "    xmax = n2/b\n",
    "    print(\"le réactif limitant est \", especes[1])\n",
    "    print(\"la quantité de matière de\" , especes[1], \"est nulle\")\n",
    "    n1f = n1-a*xmax\n",
    "    print(\"la quantité de matière de\" , especes[0], \"est\", n1f,\"mol\")\n",
    "elif n1/a == n2/b :\n",
    "     xmax = n2/b\n",
    "     print(\" on a atteint les proportions stoechiométriques. les deux réactifs sont entièrement consommés\")\n",
    "else :\n",
    "    xmax = n1/a\n",
    "    print(\"le réactif limitant est \", especes[0])\n",
    "    print(\"la quantité de matière de\" , especes[0], \"est nulle\")\n",
    "    n2f = n2-b*xmax\n",
    "    print(\"la quantité de matière de\" , especes[1], \"est\", n2f,\"mol\")\n",
    "    \n",
    "print (\"La valeur de xmax est de \" , xmax) #affichage de xmax"
   ]
  },
  {
   "cell_type": "markdown",
   "metadata": {},
   "source": [
    "**Quatrième partie du code** : on trace la quantité de matière en fonction de l'avancement. Comment fait-on pour remplir les listes nécéssaires au tracé?"
   ]
  },
  {
   "cell_type": "code",
   "execution_count": null,
   "metadata": {},
   "outputs": [],
   "source": [
    "#tracés des courbes\n",
    "x=[]     # on crée les listes vides\n",
    "n11=[]   \n",
    "n22=[]   \n",
    "n33=[]   \n",
    "\n",
    "for i in range(0,101,1):   # les valeurs s'étendent de 0 à 101 avec un pas de 1\n",
    "    x.append(i*xmax/100)           \n",
    "   \n",
    "#calculs des quantités de matière\n",
    "for i in range(0,101,1):    \n",
    "    n11.append(n1-a*x[i])   \n",
    "for i in range(0,101,1):    \n",
    "    n22.append(n2-b*x[i])   \n",
    "for i in range(0,101,1):    \n",
    "    n33.append(c*x[i])   \n",
    "\n",
    "\n",
    "\n",
    "# tracé de n en fonction de x\n",
    "\n",
    "plot(x,n11,label= especes[0],linestyle= 'dashed')     # plot(abscisse,ordonnée,\"legende de la courbe\")\n",
    "plot(x,n22,label= especes[1],linestyle= 'dotted')       # plot(abscisse,ordonnée,\"legende de la courbe\")\n",
    "plot(x,n33,label= especes[2])      # plot(abscisse,ordonnée,\"legende de la courbe\")\n",
    "    \n",
    "\n",
    "xlabel(\"avancement en mol\")      # xlabel(\"Nom de l'axe de l'axe des absicces\")\n",
    "ylabel(\"quantités de matières en mol\")              # ylabel(\"Nom de l'axe des ordonnées\")\n",
    "legend(loc=\"lower left\")            # Position de la legende de la courbe dans le graphique\n",
    "grid(True)                          # Affiche la grille du graphique\n",
    "show(True)                          # Affiche le graphique\n"
   ]
  },
  {
   "cell_type": "markdown",
   "metadata": {},
   "source": [
    "Pour relancer ce notebook avec d'autres conditions initiales, il faut relancer le code en choisissant dans le menu *Kernel/restat and clear ouput*, Cela efface toutes les sorties et permet de recommencer à zéro.  \n",
    "Pour sauvegarder le fichier exécuté faire *file/download as/html*."
   ]
  },
  {
   "cell_type": "code",
   "execution_count": null,
   "metadata": {},
   "outputs": [],
   "source": []
  }
 ],
 "metadata": {
  "kernelspec": {
   "display_name": "Python 3",
   "language": "python",
   "name": "python3"
  },
  "language_info": {
   "codemirror_mode": {
    "name": "ipython",
    "version": 3
   },
   "file_extension": ".py",
   "mimetype": "text/x-python",
   "name": "python",
   "nbconvert_exporter": "python",
   "pygments_lexer": "ipython3",
   "version": "3.7.3"
  }
 },
 "nbformat": 4,
 "nbformat_minor": 2
}
